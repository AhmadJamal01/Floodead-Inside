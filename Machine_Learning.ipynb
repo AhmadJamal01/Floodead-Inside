{
  "nbformat": 4,
  "nbformat_minor": 0,
  "metadata": {
    "colab": {
      "provenance": [],
      "authorship_tag": "ABX9TyMDogcOaE7ThhKWBrED2MIa",
      "include_colab_link": true
    },
    "kernelspec": {
      "name": "python3",
      "display_name": "Python 3"
    },
    "language_info": {
      "name": "python"
    }
  },
  "cells": [
    {
      "cell_type": "markdown",
      "metadata": {
        "id": "view-in-github",
        "colab_type": "text"
      },
      "source": [
        "<a href=\"https://colab.research.google.com/github/AhmadJamal01/Floodead-Inside/blob/main/Machine_Learning.ipynb\" target=\"_parent\"><img src=\"https://colab.research.google.com/assets/colab-badge.svg\" alt=\"Open In Colab\"/></a>"
      ]
    },
    {
      "cell_type": "markdown",
      "source": [
        "## Imports"
      ],
      "metadata": {
        "id": "y5MJDPraBa1U"
      }
    },
    {
      "cell_type": "code",
      "source": [
        "import numpy as np\n",
        "from sklearn.model_selection import cross_validate\n",
        "from sklearn.svm import SVC\n",
        "import pandas as pd\n",
        "import numpy as np\n",
        "import glob\n",
        "import os\n",
        "import cv2\n",
        "import seaborn as sns\n",
        "import matplotlib.pyplot as plt\n",
        "import plotly.express as px\n",
        "from osgeo import gdal\n",
        "import cv2\n",
        "from skimage.feature import hog\n",
        "from sklearn.model_selection import train_test_split\n",
        "from sklearn.svm import LinearSVC\n",
        "from sklearn.metrics import accuracy_score\n",
        "\n",
        "\n",
        "NUM_FOLDS = 10"
      ],
      "metadata": {
        "id": "kw4xbu2jBd7u"
      },
      "execution_count": null,
      "outputs": []
    },
    {
      "cell_type": "markdown",
      "source": [
        "## Read the Data"
      ],
      "metadata": {
        "id": "goyobUkSBeL-"
      }
    },
    {
      "cell_type": "code",
      "source": [
        "!pip install gdal > /dev/null"
      ],
      "metadata": {
        "id": "6KG9CuAVBhSu"
      },
      "execution_count": null,
      "outputs": []
    },
    {
      "cell_type": "code",
      "source": [
        "import gdown\n",
        "gdown.download(\"https://drive.google.com/uc?id=1och-QmNa3FAiS-wssgzCwISbmpSezIi_\", \"dataset.zip\", quiet=False)\n",
        "gdown.extractall(\"dataset.zip\")\n",
        "path = 'dataset/'\n"
      ],
      "metadata": {
        "id": "qD-f2mNYCCh7"
      },
      "execution_count": null,
      "outputs": []
    },
    {
      "cell_type": "markdown",
      "source": [
        "## Prepare the Data"
      ],
      "metadata": {
        "id": "qxliIRA3CinH"
      }
    },
    {
      "cell_type": "code",
      "source": [
        "df = pd.DataFrame(columns=['image_path', 'label'])\n",
        "\n",
        "for image_path in sorted(glob.glob('dataset/flooded/*.jpg')):\n",
        "    data = {'image_path': image_path, 'label': 'flooded'}\n",
        "    df.loc[len(df)] = data\n",
        "\n",
        "for image_path in sorted(glob.glob('dataset/non-flooded/*.jpg')):\n",
        "    data = {'image_path': image_path, 'label': 'non-flooded'}\n",
        "    df.loc[len(df)] = data"
      ],
      "metadata": {
        "id": "AVhfujkICFwl"
      },
      "execution_count": null,
      "outputs": []
    },
    {
      "cell_type": "code",
      "source": [
        "print(df.head())\n",
        "print(\"Dataset shape:\", df.shape)"
      ],
      "metadata": {
        "id": "-jutcFdXDfy5"
      },
      "execution_count": null,
      "outputs": []
    },
    {
      "cell_type": "markdown",
      "source": [
        "### Extract Features"
      ],
      "metadata": {
        "id": "enX9T1eZDa0s"
      }
    },
    {
      "cell_type": "code",
      "source": [
        "def extract_hog_features(image):\n",
        "    gray_image = cv2.cvtColor(image, cv2.COLOR_BGR2GRAY)\n",
        "    hog_features = hog(gray_image, orientations=9, pixels_per_cell=(8, 8), cells_per_block=(2, 2))\n",
        "    return hog_features\n"
      ],
      "metadata": {
        "id": "KqyTXjDFDMQB"
      },
      "execution_count": null,
      "outputs": []
    },
    {
      "cell_type": "code",
      "source": [
        "hog_features = []\n",
        "labels = []\n",
        "\n",
        "for index, row in df.iterrows():\n",
        "    image_path = row['image_path']\n",
        "    label = row['label']\n",
        "    \n",
        "    # Read the image\n",
        "    image = cv2.imread(image_path)\n",
        "    \n",
        "    # Extract HOG features\n",
        "    hog_feature = extract_hog_features(image)\n",
        "    \n",
        "    # Append the features and labels to the respective lists\n",
        "    hog_features.append(hog_feature)\n",
        "    labels.append(label)\n"
      ],
      "metadata": {
        "id": "uvhTJ_xAIjXy"
      },
      "execution_count": null,
      "outputs": []
    },
    {
      "cell_type": "markdown",
      "source": [
        "## Split the Data"
      ],
      "metadata": {
        "id": "PGSOOOTlInnG"
      }
    },
    {
      "cell_type": "code",
      "source": [
        "X_train, X_test, y_train, y_test = train_test_split(hog_features, labels, test_size=0.2, random_state=42)\n"
      ],
      "metadata": {
        "id": "HDUvs7GYIoMX"
      },
      "execution_count": null,
      "outputs": []
    },
    {
      "cell_type": "markdown",
      "source": [
        "## Model"
      ],
      "metadata": {
        "id": "cE8G4p91Ix8z"
      }
    },
    {
      "cell_type": "code",
      "source": [
        "svm = LinearSVC()\n",
        "svm.fit(X_train, y_train)\n"
      ],
      "metadata": {
        "id": "tstIDb3pIzVR"
      },
      "execution_count": null,
      "outputs": []
    },
    {
      "cell_type": "markdown",
      "source": [
        "## Evaluation"
      ],
      "metadata": {
        "id": "8RLxVCXWI1tn"
      }
    },
    {
      "cell_type": "code",
      "source": [
        "y_pred = svm.predict(X_test)\n"
      ],
      "metadata": {
        "id": "niAyvUTSI5FI"
      },
      "execution_count": null,
      "outputs": []
    },
    {
      "cell_type": "code",
      "source": [
        "accuracy = accuracy_score(y_test, y_pred)\n",
        "print('Accuracy: {:.2f}%'.format(accuracy * 100))\n"
      ],
      "metadata": {
        "id": "5fPoY-Z-I5n1"
      },
      "execution_count": null,
      "outputs": []
    }
  ]
}