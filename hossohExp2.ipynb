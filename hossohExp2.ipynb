{
 "cells": [
  {
   "cell_type": "code",
   "execution_count": 165,
   "metadata": {},
   "outputs": [],
   "source": [
    "# use GLCM from skimage.feature\n",
    "import numpy as np\n",
    "import matplotlib.pyplot as plt\n",
    "from skimage.feature import greycomatrix, greycoprops\n",
    "from skimage import data\n",
    "from skimage import io\n",
    "import os\n",
    "# PCA from sklearn\n",
    "from sklearn.decomposition import PCA\n",
    "# train test split from sklearn\n",
    "from sklearn.model_selection import train_test_split\n",
    "# lazy predict\n",
    "from lazypredict.Supervised import LazyClassifier\n",
    "# brightness correction\n",
    "from skimage import exposure\n",
    "# HOG\n",
    "from skimage.feature import hog, local_binary_pattern\n"
   ]
  },
  {
   "cell_type": "code",
   "execution_count": null,
   "metadata": {},
   "outputs": [],
   "source": []
  },
  {
   "cell_type": "code",
   "execution_count": null,
   "metadata": {},
   "outputs": [],
   "source": [
    "# load the image for processing\n",
    "image = io.imread('flooded/1.jpg', as_gray=True)\n",
    "\n",
    "# make the image uint8, where the pixel values range from 0 to 255\n",
    "image = np.array(image, dtype=np.uint8)\n",
    "\n",
    "# select some properties of the GLCM\n",
    "# the distances are 1, 2, 3, 4 pixels\n",
    "# the angles are 0, pi/4\n",
    "# the properties are 'energy', 'homogeneity', 'contrast', 'dissimilarity', 'correlation', 'ASM'\n",
    "\n",
    "distances = [1, 5,10,20]\n",
    "\n",
    "# calculate the GLCM\n",
    "glcm = greycomatrix(image, distances, [0], normed=True, symmetric=True)\n",
    "\n",
    "# calculate the properties\n",
    "contrast = greycoprops(glcm, 'contrast')\n",
    "dissimilarity = greycoprops(glcm, 'dissimilarity')\n",
    "homogeneity = greycoprops(glcm, 'homogeneity')\n",
    "energy = greycoprops(glcm, 'energy')\n",
    "correlation = greycoprops(glcm, 'correlation')\n",
    "ASM = greycoprops(glcm, 'ASM')\n",
    "\n",
    "# scatter plot of the properties with labels\n",
    "# x-axis is the distance used to calculate the GLCM\n",
    "# y-axis is the property value\n",
    "# scatter color is the the measured property\n",
    "\n",
    "plt.figure(figsize=(12, 8))\n",
    "plt.scatter(distances, contrast, c='r', s=10, label='contrast')\n",
    "plt.scatter(distances, dissimilarity, c='g', s=10, label='dissimilarity')\n",
    "plt.scatter(distances, homogeneity, c='b', s=10, label='homogeneity')\n",
    "plt.scatter(distances, energy, c='y', s=10, label='energy')\n",
    "plt.scatter(distances, correlation, c='c', s=10, label='correlation')\n",
    "plt.scatter(distances, ASM, c='m', s=10, label='ASM')\n",
    "\n",
    "plt.xticks([1, 2, 3, 4,5,6], ['1', '2', '3', '4', '5', '6'])\n",
    "plt.ylim([0, 1.5])\n",
    "plt.legend(loc='upper right')\n",
    "plt.xlabel('distance in pixels')\n",
    "plt.ylabel('value of the property')\n",
    "plt.show()\n",
    "\n",
    "# print the properties for each\n",
    "print('contrast: ', contrast)\n",
    "print('dissimilarity: ', dissimilarity)\n",
    "print('homogeneity: ', homogeneity)\n",
    "print('energy: ', energy)\n",
    "print('correlation: ', correlation)\n",
    "print('ASM: ', ASM)\n",
    "\n",
    "\n",
    "\n"
   ]
  },
  {
   "cell_type": "code",
   "execution_count": 21,
   "metadata": {},
   "outputs": [],
   "source": [
    "image = io.imread('flooded/1.jpg', as_gray=True)\n",
    "\n",
    "# make the image uint8, where the pixel values range from 0 to 255\n",
    "image = np.array(image, dtype=np.uint8)"
   ]
  },
  {
   "cell_type": "code",
   "execution_count": 100,
   "metadata": {},
   "outputs": [],
   "source": [
    "def get_patches(image, n = 10):\n",
    "    # width and height of the image\n",
    "    w, h = image.shape\n",
    "    # patch size = w/n, h/n\n",
    "    patches = []\n",
    "    for i in range(n):\n",
    "        for j in range(n):\n",
    "            patch = image[int(i*w/n):int((i+1)*w/n), int(j*h/n):int((j+1)*h/n)]\n",
    "            patches.append(patch)\n",
    "    return patches"
   ]
  },
  {
   "cell_type": "code",
   "execution_count": 103,
   "metadata": {},
   "outputs": [],
   "source": [
    "def glcm_properties(image, distances, angles, n = 10):\n",
    "    w, h = image.shape\n",
    "\n",
    "    patches = get_patches(image, n)\n",
    "    # calculate the GLCM for each patch\n",
    "    glcm = [greycomatrix(patch, distances, angles, normed=True, symmetric=True) for patch in patches]\n",
    "\n",
    "    # calculate the properties for each patch\n",
    "    contrast = np.array([greycoprops(g, 'contrast') for g in glcm]).squeeze().T\n",
    "    dissimilarity = np.array([greycoprops(g, 'dissimilarity') for g in glcm]).squeeze().T\n",
    "    homogeneity = np.array([greycoprops(g, 'homogeneity') for g in glcm]).squeeze().T\n",
    "    energy = np.array([greycoprops(g, 'energy') for g in glcm]).squeeze().T\n",
    "    correlation = np.array([greycoprops(g, 'correlation') for g in glcm]).squeeze().T\n",
    "    ASM = np.array([greycoprops(g, 'ASM') for g in glcm]).squeeze().T\n",
    "\n",
    "    return contrast, dissimilarity, homogeneity, energy, correlation, ASM\n"
   ]
  },
  {
   "cell_type": "code",
   "execution_count": 58,
   "metadata": {},
   "outputs": [
    {
     "name": "stdout",
     "output_type": "stream",
     "text": [
      "(100, 256, 256, 1, 4)\n",
      "(4, 100)\n",
      "(4, 100)\n"
     ]
    }
   ],
   "source": [
    "#shape of glcm is (100, 4, 2, 2, 2, 2)\n",
    "print(np.array(glcm).shape)\n",
    "\n",
    "#shape of properties is \n",
    "print(np.array(contrast).shape)\n",
    "print(np.array(dissimilarity).shape)\n",
    "\n"
   ]
  },
  {
   "cell_type": "code",
   "execution_count": 56,
   "metadata": {},
   "outputs": [
    {
     "data": {
      "image/png": "[encoded data removed]",
      "text/plain": [
       "<Figure size 864x576 with 1 Axes>"
      ]
     },
     "metadata": {
      "needs_background": "light"
     },
     "output_type": "display_data"
    }
   ],
   "source": [
    "# plot the contrast values for all patches\n",
    "# plot each 2-property combination for each distance and angle in one plot\n",
    "\n",
    "# plot the contrast & homogeneity values, angle = 0\n",
    "plt.figure(figsize=(12, 8))\n",
    "plt.scatter(contrast[0], homogeneity[0], c='r', s=10, label=' angle = 0')\n",
    "plt.scatter(contrast[1], homogeneity[1], c='g', s=10, label=' angle = pi/4')\n",
    "\n",
    "plt.legend(loc='upper right')\n",
    "plt.xlabel('contrast')\n",
    "plt.ylabel('homogeneity')\n",
    "plt.show()\n"
   ]
  },
  {
   "cell_type": "code",
   "execution_count": 63,
   "metadata": {},
   "outputs": [],
   "source": [
    "w, h = image.shape\n",
    "\n",
    "distances = [min(w,h)//100]\n",
    "angles = [np.pi/4, np.pi/2, 3*np.pi/4, np.pi]\n",
    "\n",
    "features = np.concatenate(glcm_properties(image, distances, angles), axis=0)"
   ]
  },
  {
   "cell_type": "code",
   "execution_count": 67,
   "metadata": {},
   "outputs": [
    {
     "name": "stdout",
     "output_type": "stream",
     "text": [
      "(24, 100)\n",
      "(2400,)\n"
     ]
    }
   ],
   "source": [
    "print(features.shape)\n",
    "\n",
    "features_flattened = features.flatten()\n",
    "\n",
    "print(features_flattened.shape)"
   ]
  },
  {
   "cell_type": "code",
   "execution_count": 155,
   "metadata": {},
   "outputs": [],
   "source": [
    "features_flattened_2 = []\n",
    "label_2 = []"
   ]
  },
  {
   "cell_type": "code",
   "execution_count": 156,
   "metadata": {},
   "outputs": [],
   "source": [
    "# loop over all images in flooded folder\n",
    "\n",
    "for i in range(0, 461):\n",
    "    img2vec = Img2Vec()\n",
    "    img = Image.open('flooded/' + str(i) + '.jpg')\n",
    "    vec = img2vec.get_vec(img, tensor=True)\n",
    "\n",
    "    # convert tensor to numpy array\n",
    "    features = vec.numpy()\n",
    "\n",
    "    features_flattened_2.append(features.flatten())\n",
    "    label_2.append(1)\n"
   ]
  },
  {
   "cell_type": "code",
   "execution_count": 157,
   "metadata": {},
   "outputs": [],
   "source": [
    "# loop over all images in flooded folder\n",
    "\n",
    "for i in range(578, 1039):\n",
    "    img2vec = Img2Vec()\n",
    "    img = Image.open('non-flooded/' + str(i) + '.jpg')\n",
    "    vec = img2vec.get_vec(img, tensor=True)\n",
    "\n",
    "    # convert tensor to numpy array\n",
    "    features = vec.numpy()\n",
    "\n",
    "    features_flattened_2.append(features.flatten())\n",
    "    label_2.append(0)\n"
   ]
  },
  {
   "cell_type": "code",
   "execution_count": 143,
   "metadata": {},
   "outputs": [],
   "source": [
    "# loop over all images in flooded folder\n",
    "# calculate the features for each image\n",
    "\n",
    "for i in range(0, 461):\n",
    "    image = io.imread('flooded/'+str(i)+'.jpg', as_gray=True)\n",
    "    # make the image uint8, where the pixel values range from 0 to 255\n",
    "    image = np.array(image, dtype=np.uint8)\n",
    "    # calculate the features\n",
    "    w, h = image.shape\n",
    "\n",
    "    distances = [min(w,h)//100]\n",
    "    angles = [np.pi/4, np.pi/2, 3*np.pi/4, np.pi]\n",
    "\n",
    "    features = np.concatenate(glcm_properties(image, distances, angles, 8), axis=0)\n",
    "    features_flattened_2.append(features.flatten())\n",
    "    label_2.append(1)\n"
   ]
  },
  {
   "cell_type": "code",
   "execution_count": 144,
   "metadata": {},
   "outputs": [],
   "source": [
    "# loop over all images in flooded folder\n",
    "# calculate the features for each image\n",
    "\n",
    "for i in range(578, 1039):\n",
    "    image = io.imread('non-flooded/'+str(i)+'.jpg', as_gray=True)\n",
    "    # make the image uint8, where the pixel values range from 0 to 255\n",
    "    image = np.array(image, dtype=np.uint8)\n",
    "    # calculate the features\n",
    "    w, h = image.shape\n",
    "\n",
    "    distances = [min(w,h)//100]\n",
    "    angles = [np.pi/4, np.pi/2, 3*np.pi/4, np.pi]\n",
    "\n",
    "    features = np.concatenate(glcm_properties(image, distances, angles, 8), axis=0)\n",
    "    features_flattened_2.append(features.flatten())\n",
    "    label_2.append(0)\n"
   ]
  },
  {
   "cell_type": "code",
   "execution_count": 158,
   "metadata": {},
   "outputs": [
    {
     "name": "stdout",
     "output_type": "stream",
     "text": [
      "(922, 512)\n"
     ]
    }
   ],
   "source": [
    "print(np.array(features_flattened_2).shape)"
   ]
  },
  {
   "cell_type": "code",
   "execution_count": 159,
   "metadata": {},
   "outputs": [
    {
     "name": "stdout",
     "output_type": "stream",
     "text": [
      "(922, 512)\n"
     ]
    }
   ],
   "source": [
    "# [array([]), array([]), array([]), array([]), array([]), array([])] -> numpy array\n",
    "features_flattened_2_np = np.array(features_flattened_2)\n",
    "print(features_flattened_2_np.shape)"
   ]
  },
  {
   "cell_type": "code",
   "execution_count": 146,
   "metadata": {},
   "outputs": [
    {
     "name": "stdout",
     "output_type": "stream",
     "text": [
      "(922, 1536)\n"
     ]
    }
   ],
   "source": [
    "# make features_flattened_np 2D\n",
    "features_np = np.reshape(features_flattened_2_np, (len(features_flattened_2), 24 * 8 * 8))\n",
    "print(features_np.shape)"
   ]
  },
  {
   "cell_type": "code",
   "execution_count": 160,
   "metadata": {},
   "outputs": [
    {
     "name": "stdout",
     "output_type": "stream",
     "text": [
      "(922,)\n"
     ]
    }
   ],
   "source": [
    "label_2_np = np.array(label_2)\n",
    "print(label_2_np.shape)"
   ]
  },
  {
   "cell_type": "code",
   "execution_count": 161,
   "metadata": {},
   "outputs": [],
   "source": [
    "# shuffle the features and labels\n",
    "indices = np.arange(len(label_2))\n",
    "np.random.shuffle(indices)\n",
    "features_np_shuffled = features_np[indices]\n",
    "label_np_shuffled = label_2_np[indices]"
   ]
  },
  {
   "cell_type": "code",
   "execution_count": 125,
   "metadata": {},
   "outputs": [
    {
     "name": "stdout",
     "output_type": "stream",
     "text": [
      "(99, 99)\n"
     ]
    }
   ],
   "source": [
    "# run PCA on features_np_shuffled\n",
    "pca = PCA()\n",
    "pca.fit(features_np_shuffled)\n",
    "features_np_shuffled_pca = pca.transform(features_np_shuffled)\n",
    "\n",
    "print(features_np_shuffled_pca.shape)"
   ]
  },
  {
   "cell_type": "code",
   "execution_count": 162,
   "metadata": {},
   "outputs": [],
   "source": [
    "# split the data into training and testing sets\n",
    "X_train, X_test, y_train, y_test = train_test_split(features_np_shuffled, label_np_shuffled, test_size=0.2, random_state=42)"
   ]
  },
  {
   "cell_type": "code",
   "execution_count": 167,
   "metadata": {},
   "outputs": [
    {
     "name": "stderr",
     "output_type": "stream",
     "text": [
      "100%|██████████| 29/29 [00:20<00:00,  1.40it/s]"
     ]
    },
    {
     "name": "stdout",
     "output_type": "stream",
     "text": [
      "                               Accuracy  Balanced Accuracy  ROC AUC  F1 Score  \\\n",
      "Model                                                                           \n",
      "ExtraTreeClassifier                0.58               0.59     0.59      0.57   \n",
      "DecisionTreeClassifier             0.57               0.58     0.58      0.53   \n",
      "ExtraTreesClassifier               0.57               0.58     0.58      0.54   \n",
      "NuSVC                              0.55               0.56     0.56      0.53   \n",
      "QuadraticDiscriminantAnalysis      0.55               0.56     0.56      0.50   \n",
      "RandomForestClassifier             0.54               0.54     0.54      0.51   \n",
      "BernoulliNB                        0.55               0.54     0.54      0.53   \n",
      "BaggingClassifier                  0.54               0.54     0.54      0.51   \n",
      "XGBClassifier                      0.53               0.54     0.54      0.50   \n",
      "Perceptron                         0.55               0.54     0.54      0.52   \n",
      "\n",
      "                               Time Taken  \n",
      "Model                                      \n",
      "ExtraTreeClassifier                  0.08  \n",
      "DecisionTreeClassifier               0.28  \n",
      "ExtraTreesClassifier                 1.13  \n",
      "NuSVC                                0.48  \n",
      "QuadraticDiscriminantAnalysis        0.61  \n",
      "RandomForestClassifier               0.78  \n",
      "BernoulliNB                          0.09  \n",
      "BaggingClassifier                    1.48  \n",
      "XGBClassifier                        0.94  \n",
      "Perceptron                           0.10  \n"
     ]
    },
    {
     "name": "stderr",
     "output_type": "stream",
     "text": [
      "\n"
     ]
    }
   ],
   "source": [
    "# lazy predict classifier\n",
    "clf = LazyClassifier(verbose=0, ignore_warnings=True, custom_metric=None)\n",
    "models, predictions = clf.fit(X_train, X_test, y_train, y_test)\n",
    "\n"
   ]
  },
  {
   "cell_type": "code",
   "execution_count": 168,
   "metadata": {},
   "outputs": [
    {
     "data": {
      "text/html": [
       "<div>\n",
       "<style scoped>\n",
       "    .dataframe tbody tr th:only-of-type {\n",
       "        vertical-align: middle;\n",
       "    }\n",
       "\n",
       "    .dataframe tbody tr th {\n",
       "        vertical-align: top;\n",
       "    }\n",
       "\n",
       "    .dataframe thead th {\n",
       "        text-align: right;\n",
       "    }\n",
       "</style>\n",
       "<table border=\"1\" class=\"dataframe\">\n",
       "  <thead>\n",
       "    <tr style=\"text-align: right;\">\n",
       "      <th></th>\n",
       "      <th>Accuracy</th>\n",
       "      <th>Balanced Accuracy</th>\n",
       "      <th>ROC AUC</th>\n",
       "      <th>F1 Score</th>\n",
       "      <th>Time Taken</th>\n",
       "    </tr>\n",
       "    <tr>\n",
       "      <th>Model</th>\n",
       "      <th></th>\n",
       "      <th></th>\n",
       "      <th></th>\n",
       "      <th></th>\n",
       "      <th></th>\n",
       "    </tr>\n",
       "  </thead>\n",
       "  <tbody>\n",
       "    <tr>\n",
       "      <th>ExtraTreeClassifier</th>\n",
       "      <td>0.58</td>\n",
       "      <td>0.59</td>\n",
       "      <td>0.59</td>\n",
       "      <td>0.57</td>\n",
       "      <td>0.08</td>\n",
       "    </tr>\n",
       "    <tr>\n",
       "      <th>DecisionTreeClassifier</th>\n",
       "      <td>0.57</td>\n",
       "      <td>0.58</td>\n",
       "      <td>0.58</td>\n",
       "      <td>0.53</td>\n",
       "      <td>0.28</td>\n",
       "    </tr>\n",
       "    <tr>\n",
       "      <th>ExtraTreesClassifier</th>\n",
       "      <td>0.57</td>\n",
       "      <td>0.58</td>\n",
       "      <td>0.58</td>\n",
       "      <td>0.54</td>\n",
       "      <td>1.13</td>\n",
       "    </tr>\n",
       "    <tr>\n",
       "      <th>NuSVC</th>\n",
       "      <td>0.55</td>\n",
       "      <td>0.56</td>\n",
       "      <td>0.56</td>\n",
       "      <td>0.53</td>\n",
       "      <td>0.48</td>\n",
       "    </tr>\n",
       "    <tr>\n",
       "      <th>QuadraticDiscriminantAnalysis</th>\n",
       "      <td>0.55</td>\n",
       "      <td>0.56</td>\n",
       "      <td>0.56</td>\n",
       "      <td>0.50</td>\n",
       "      <td>0.61</td>\n",
       "    </tr>\n",
       "    <tr>\n",
       "      <th>RandomForestClassifier</th>\n",
       "      <td>0.54</td>\n",
       "      <td>0.54</td>\n",
       "      <td>0.54</td>\n",
       "      <td>0.51</td>\n",
       "      <td>0.78</td>\n",
       "    </tr>\n",
       "    <tr>\n",
       "      <th>BernoulliNB</th>\n",
       "      <td>0.55</td>\n",
       "      <td>0.54</td>\n",
       "      <td>0.54</td>\n",
       "      <td>0.53</td>\n",
       "      <td>0.09</td>\n",
       "    </tr>\n",
       "    <tr>\n",
       "      <th>BaggingClassifier</th>\n",
       "      <td>0.54</td>\n",
       "      <td>0.54</td>\n",
       "      <td>0.54</td>\n",
       "      <td>0.51</td>\n",
       "      <td>1.48</td>\n",
       "    </tr>\n",
       "    <tr>\n",
       "      <th>XGBClassifier</th>\n",
       "      <td>0.53</td>\n",
       "      <td>0.54</td>\n",
       "      <td>0.54</td>\n",
       "      <td>0.50</td>\n",
       "      <td>0.94</td>\n",
       "    </tr>\n",
       "    <tr>\n",
       "      <th>Perceptron</th>\n",
       "      <td>0.55</td>\n",
       "      <td>0.54</td>\n",
       "      <td>0.54</td>\n",
       "      <td>0.52</td>\n",
       "      <td>0.10</td>\n",
       "    </tr>\n",
       "    <tr>\n",
       "      <th>SVC</th>\n",
       "      <td>0.52</td>\n",
       "      <td>0.54</td>\n",
       "      <td>0.54</td>\n",
       "      <td>0.46</td>\n",
       "      <td>0.47</td>\n",
       "    </tr>\n",
       "    <tr>\n",
       "      <th>CalibratedClassifierCV</th>\n",
       "      <td>0.51</td>\n",
       "      <td>0.53</td>\n",
       "      <td>0.53</td>\n",
       "      <td>0.45</td>\n",
       "      <td>7.87</td>\n",
       "    </tr>\n",
       "    <tr>\n",
       "      <th>KNeighborsClassifier</th>\n",
       "      <td>0.51</td>\n",
       "      <td>0.52</td>\n",
       "      <td>0.52</td>\n",
       "      <td>0.48</td>\n",
       "      <td>0.09</td>\n",
       "    </tr>\n",
       "    <tr>\n",
       "      <th>LGBMClassifier</th>\n",
       "      <td>0.51</td>\n",
       "      <td>0.52</td>\n",
       "      <td>0.52</td>\n",
       "      <td>0.48</td>\n",
       "      <td>0.57</td>\n",
       "    </tr>\n",
       "    <tr>\n",
       "      <th>RidgeClassifier</th>\n",
       "      <td>0.51</td>\n",
       "      <td>0.51</td>\n",
       "      <td>0.51</td>\n",
       "      <td>0.49</td>\n",
       "      <td>0.12</td>\n",
       "    </tr>\n",
       "    <tr>\n",
       "      <th>LogisticRegression</th>\n",
       "      <td>0.50</td>\n",
       "      <td>0.51</td>\n",
       "      <td>0.51</td>\n",
       "      <td>0.47</td>\n",
       "      <td>0.16</td>\n",
       "    </tr>\n",
       "    <tr>\n",
       "      <th>LinearDiscriminantAnalysis</th>\n",
       "      <td>0.50</td>\n",
       "      <td>0.51</td>\n",
       "      <td>0.51</td>\n",
       "      <td>0.48</td>\n",
       "      <td>0.92</td>\n",
       "    </tr>\n",
       "    <tr>\n",
       "      <th>DummyClassifier</th>\n",
       "      <td>0.48</td>\n",
       "      <td>0.50</td>\n",
       "      <td>0.50</td>\n",
       "      <td>0.31</td>\n",
       "      <td>0.07</td>\n",
       "    </tr>\n",
       "    <tr>\n",
       "      <th>GaussianNB</th>\n",
       "      <td>0.51</td>\n",
       "      <td>0.50</td>\n",
       "      <td>0.50</td>\n",
       "      <td>0.43</td>\n",
       "      <td>0.09</td>\n",
       "    </tr>\n",
       "    <tr>\n",
       "      <th>LabelPropagation</th>\n",
       "      <td>0.49</td>\n",
       "      <td>0.49</td>\n",
       "      <td>0.49</td>\n",
       "      <td>0.49</td>\n",
       "      <td>0.12</td>\n",
       "    </tr>\n",
       "    <tr>\n",
       "      <th>LabelSpreading</th>\n",
       "      <td>0.49</td>\n",
       "      <td>0.49</td>\n",
       "      <td>0.49</td>\n",
       "      <td>0.49</td>\n",
       "      <td>0.13</td>\n",
       "    </tr>\n",
       "    <tr>\n",
       "      <th>NearestCentroid</th>\n",
       "      <td>0.50</td>\n",
       "      <td>0.49</td>\n",
       "      <td>0.49</td>\n",
       "      <td>0.44</td>\n",
       "      <td>0.08</td>\n",
       "    </tr>\n",
       "    <tr>\n",
       "      <th>AdaBoostClassifier</th>\n",
       "      <td>0.48</td>\n",
       "      <td>0.49</td>\n",
       "      <td>0.49</td>\n",
       "      <td>0.45</td>\n",
       "      <td>1.42</td>\n",
       "    </tr>\n",
       "    <tr>\n",
       "      <th>LinearSVC</th>\n",
       "      <td>0.48</td>\n",
       "      <td>0.49</td>\n",
       "      <td>0.49</td>\n",
       "      <td>0.45</td>\n",
       "      <td>2.01</td>\n",
       "    </tr>\n",
       "    <tr>\n",
       "      <th>RidgeClassifierCV</th>\n",
       "      <td>0.48</td>\n",
       "      <td>0.49</td>\n",
       "      <td>0.49</td>\n",
       "      <td>0.46</td>\n",
       "      <td>0.27</td>\n",
       "    </tr>\n",
       "    <tr>\n",
       "      <th>PassiveAggressiveClassifier</th>\n",
       "      <td>0.47</td>\n",
       "      <td>0.48</td>\n",
       "      <td>0.48</td>\n",
       "      <td>0.43</td>\n",
       "      <td>0.15</td>\n",
       "    </tr>\n",
       "    <tr>\n",
       "      <th>SGDClassifier</th>\n",
       "      <td>0.46</td>\n",
       "      <td>0.47</td>\n",
       "      <td>0.47</td>\n",
       "      <td>0.43</td>\n",
       "      <td>0.19</td>\n",
       "    </tr>\n",
       "  </tbody>\n",
       "</table>\n",
       "</div>"
      ],
      "text/plain": [
       "                               Accuracy  Balanced Accuracy  ROC AUC  F1 Score  \\\n",
       "Model                                                                           \n",
       "ExtraTreeClassifier                0.58               0.59     0.59      0.57   \n",
       "DecisionTreeClassifier             0.57               0.58     0.58      0.53   \n",
       "ExtraTreesClassifier               0.57               0.58     0.58      0.54   \n",
       "NuSVC                              0.55               0.56     0.56      0.53   \n",
       "QuadraticDiscriminantAnalysis      0.55               0.56     0.56      0.50   \n",
       "RandomForestClassifier             0.54               0.54     0.54      0.51   \n",
       "BernoulliNB                        0.55               0.54     0.54      0.53   \n",
       "BaggingClassifier                  0.54               0.54     0.54      0.51   \n",
       "XGBClassifier                      0.53               0.54     0.54      0.50   \n",
       "Perceptron                         0.55               0.54     0.54      0.52   \n",
       "SVC                                0.52               0.54     0.54      0.46   \n",
       "CalibratedClassifierCV             0.51               0.53     0.53      0.45   \n",
       "KNeighborsClassifier               0.51               0.52     0.52      0.48   \n",
       "LGBMClassifier                     0.51               0.52     0.52      0.48   \n",
       "RidgeClassifier                    0.51               0.51     0.51      0.49   \n",
       "LogisticRegression                 0.50               0.51     0.51      0.47   \n",
       "LinearDiscriminantAnalysis         0.50               0.51     0.51      0.48   \n",
       "DummyClassifier                    0.48               0.50     0.50      0.31   \n",
       "GaussianNB                         0.51               0.50     0.50      0.43   \n",
       "LabelPropagation                   0.49               0.49     0.49      0.49   \n",
       "LabelSpreading                     0.49               0.49     0.49      0.49   \n",
       "NearestCentroid                    0.50               0.49     0.49      0.44   \n",
       "AdaBoostClassifier                 0.48               0.49     0.49      0.45   \n",
       "LinearSVC                          0.48               0.49     0.49      0.45   \n",
       "RidgeClassifierCV                  0.48               0.49     0.49      0.46   \n",
       "PassiveAggressiveClassifier        0.47               0.48     0.48      0.43   \n",
       "SGDClassifier                      0.46               0.47     0.47      0.43   \n",
       "\n",
       "                               Time Taken  \n",
       "Model                                      \n",
       "ExtraTreeClassifier                  0.08  \n",
       "DecisionTreeClassifier               0.28  \n",
       "ExtraTreesClassifier                 1.13  \n",
       "NuSVC                                0.48  \n",
       "QuadraticDiscriminantAnalysis        0.61  \n",
       "RandomForestClassifier               0.78  \n",
       "BernoulliNB                          0.09  \n",
       "BaggingClassifier                    1.48  \n",
       "XGBClassifier                        0.94  \n",
       "Perceptron                           0.10  \n",
       "SVC                                  0.47  \n",
       "CalibratedClassifierCV               7.87  \n",
       "KNeighborsClassifier                 0.09  \n",
       "LGBMClassifier                       0.57  \n",
       "RidgeClassifier                      0.12  \n",
       "LogisticRegression                   0.16  \n",
       "LinearDiscriminantAnalysis           0.92  \n",
       "DummyClassifier                      0.07  \n",
       "GaussianNB                           0.09  \n",
       "LabelPropagation                     0.12  \n",
       "LabelSpreading                       0.13  \n",
       "NearestCentroid                      0.08  \n",
       "AdaBoostClassifier                   1.42  \n",
       "LinearSVC                            2.01  \n",
       "RidgeClassifierCV                    0.27  \n",
       "PassiveAggressiveClassifier          0.15  \n",
       "SGDClassifier                        0.19  "
      ]
     },
     "execution_count": 168,
     "metadata": {},
     "output_type": "execute_result"
    }
   ],
   "source": [
    "models"
   ]
  },
  {
   "cell_type": "code",
   "execution_count": 151,
   "metadata": {},
   "outputs": [],
   "source": [
    "from img2vec_pytorch import Img2Vec\n",
    "from PIL import Image"
   ]
  },
  {
   "cell_type": "code",
   "execution_count": 154,
   "metadata": {},
   "outputs": [
    {
     "name": "stdout",
     "output_type": "stream",
     "text": [
      "torch.Size([1, 512, 1, 1])\n"
     ]
    }
   ],
   "source": [
    "img2vec = Img2Vec()\n",
    "img = Image.open('test.jpg')\n",
    "vec = img2vec.get_vec(img, tensor=True)\n",
    "\n",
    "print(vec.shape)"
   ]
  },
  {
   "cell_type": "code",
   "execution_count": null,
   "metadata": {},
   "outputs": [],
   "source": [
    "# segment the image into flood and non-flood areas\n",
    "# flood areas are white, non-flood areas are black"
   ]
  }
 ],
 "metadata": {
  "kernelspec": {
   "display_name": "Python 3",
   "language": "python",
   "name": "python3"
  },
  "language_info": {
   "codemirror_mode": {
    "name": "ipython",
    "version": 3
   },
   "file_extension": ".py",
   "mimetype": "text/x-python",
   "name": "python",
   "nbconvert_exporter": "python",
   "pygments_lexer": "ipython3",
   "version": "3.10.0"
  },
  "orig_nbformat": 4
 },
 "nbformat": 4,
 "nbformat_minor": 2
}
